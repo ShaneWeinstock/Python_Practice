{
 "cells": [
  {
   "cell_type": "code",
   "execution_count": 1,
   "metadata": {},
   "outputs": [
    {
     "data": {
      "text/plain": [
       "3.141592653589793"
      ]
     },
     "execution_count": 1,
     "metadata": {},
     "output_type": "execute_result"
    }
   ],
   "source": [
    "import math # import a function / class / etc\n",
    "math.pi #function. calls the various items within the function"
   ]
  },
  {
   "cell_type": "code",
   "execution_count": 58,
   "metadata": {},
   "outputs": [
    {
     "name": "stdout",
     "output_type": "stream",
     "text": [
      "This product was made in Beijing\n",
      "6\n"
     ]
    }
   ],
   "source": [
    "import china\n",
    "china.Beijing()\n",
    "\n",
    "import random\n",
    "x = random.randrange(10)\n",
    "\n",
    "print(x)"
   ]
  },
  {
   "cell_type": "code",
   "execution_count": 97,
   "metadata": {},
   "outputs": [
    {
     "data": {
      "text/plain": [
       "'random1'"
      ]
     },
     "execution_count": 97,
     "metadata": {},
     "output_type": "execute_result"
    }
   ],
   "source": [
    "# Return a random item from a list\n",
    "lst = [\"random1\", \"random2\", \"random3\"]\n",
    "def grab(lst):\n",
    "  import random\n",
    "  lst_len = len(lst)\n",
    "  randy = random.randrange(lst_len)\n",
    "  return(lst[randy])\n",
    "grab(lst) \n",
    "\n"
   ]
  },
  {
   "cell_type": "code",
   "execution_count": 105,
   "metadata": {},
   "outputs": [
    {
     "name": "stdout",
     "output_type": "stream",
     "text": [
      "20\n"
     ]
    }
   ],
   "source": [
    "# build a function that returns the product of two numbers based on user input\n",
    "\n",
    "def find_product(a,b):\n",
    "    return a*b\n",
    "\n",
    "if (__name__ == \"__main__\"):    \n",
    "        a = input(\"Enter First Num\")\n",
    "        b = input(\"Enter Second Num\")\n",
    "        print(find_product(int(a),int(b)))\n"
   ]
  },
  {
   "cell_type": "code",
   "execution_count": 131,
   "metadata": {},
   "outputs": [
    {
     "data": {
      "text/plain": [
       "[111.0, 222.1, 333.12, 44.123, 555.1235, 666.12345, 777.12345, 787.12345]"
      ]
     },
     "execution_count": 131,
     "metadata": {},
     "output_type": "execute_result"
    }
   ],
   "source": [
    "random.seed(333)\n",
    "# function that does:\n",
    "    #takes a list of floats\n",
    "    #and returns a new list\n",
    "    #this new list has the original floats\n",
    "    # but rounded to the digit corresponding to the position in the list\n",
    "lst = [111.12345,222.12345,333.12345,44.12345,555.12345,666.12345,777.12345,787.12345]\n",
    "def round_to_position(lst):\n",
    "    lst2 = []\n",
    "    ind = 0\n",
    "    length = len(lst)\n",
    "    for ind,j in enumerate(lst):\n",
    "        lst3 = (round(lst[ind],ind))\n",
    "        lst2.append(lst3)\n",
    "        ind += 1\n",
    "    return lst2\n",
    "round_to_position(lst)"
   ]
  },
  {
   "cell_type": "code",
   "execution_count": 135,
   "metadata": {},
   "outputs": [
    {
     "data": {
      "text/plain": [
       "'Unknown'"
      ]
     },
     "execution_count": 135,
     "metadata": {},
     "output_type": "execute_result"
    }
   ],
   "source": [
    "def get_type_str(obj):\n",
    "    if type(obj) == str:\n",
    "        return \"string\"\n",
    "    elif type(obj) == bool:\n",
    "        return \"boolean\"\n",
    "    elif type(obj) == int:\n",
    "        return \"integer\"\n",
    "    elif type(obj) == float:\n",
    "        return \"float\"\n",
    "    elif type(obj) == list:\n",
    "        return \"list\"\n",
    "    elif type(obj) == tuple:\n",
    "        return \"tuple\"\n",
    "    else:\n",
    "        return \"unknown\"\n",
    "\n",
    "get_type_str(random)"
   ]
  },
  {
   "cell_type": "code",
   "execution_count": 141,
   "metadata": {},
   "outputs": [
    {
     "data": {
      "text/plain": [
       "['the', 'quick', 'jumps', 'over', 'the', 'moon.']"
      ]
     },
     "execution_count": 141,
     "metadata": {},
     "output_type": "execute_result"
    }
   ],
   "source": [
    "# compares words in a list to a file and returns the words that are NOT in the file as a list.\n",
    "\n",
    "words = [\"brown\", \"fox\"]\n",
    "def diffwords(fname, words):\n",
    "    lst = []\n",
    "    with open(fname, 'r') as fo:\n",
    "        for word in fo.read().split():\n",
    "            if word not in words:\n",
    "                lst.append(word)\n",
    "\n",
    "    return lst\n",
    "\n",
    "diffwords(\"test.txt\", words)\n",
    "#: File \"py_act_24\", line 69, in test_words line 6, in diffwords list.append(word) TypeError: descriptor 'append' for 'list' objects doesn't apply to a 'str' object\n"
   ]
  },
  {
   "cell_type": "code",
   "execution_count": 142,
   "metadata": {},
   "outputs": [],
   "source": [
    "# creates a hash from a string\n",
    "import hashlib\n",
    "\n",
    "def get_hash(data=\"python\"):\n",
    "    str_hash = hashlib.sha3_256()\n",
    "    str_hash.update(data.encode(\"utf-8\"))\n",
    "    return str_hash.hexdigest()"
   ]
  },
  {
   "cell_type": "code",
   "execution_count": null,
   "metadata": {},
   "outputs": [],
   "source": [
    "# The little orphan\n",
    "def tough_read(fname):\n",
    "    str = \"\"\n",
    "    x = 0\n",
    "    with open(fname) as fp:\n",
    "        lines = fp.readlines()\n",
    "        for line in lines:\n",
    "            x = int(line,2)\n",
    "            str += chr(x)\n",
    "    return str"
   ]
  },
  {
   "cell_type": "code",
   "execution_count": null,
   "metadata": {},
   "outputs": [],
   "source": [
    "# the replacements \n",
    "def replace_in_file(in_path, out_path, reps):\n",
    "    with open(in_path) as fp, open(out_path, 'w') as fo:\n",
    "        lines = fp.readlines()\n",
    "        for line in lines:\n",
    "            for i in reps:\n",
    "                line = line.replace(i[0], i[-1])\n",
    "            fo.write(line)"
   ]
  }
 ],
 "metadata": {
  "kernelspec": {
   "display_name": "Python 3",
   "language": "python",
   "name": "python3"
  },
  "language_info": {
   "codemirror_mode": {
    "name": "ipython",
    "version": 3
   },
   "file_extension": ".py",
   "mimetype": "text/x-python",
   "name": "python",
   "nbconvert_exporter": "python",
   "pygments_lexer": "ipython3",
   "version": "3.8.10"
  },
  "orig_nbformat": 4
 },
 "nbformat": 4,
 "nbformat_minor": 2
}
