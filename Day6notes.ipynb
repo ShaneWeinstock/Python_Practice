{
 "cells": [
  {
   "cell_type": "code",
   "execution_count": 20,
   "metadata": {},
   "outputs": [
    {
     "name": "stdout",
     "output_type": "stream",
     "text": [
      "0b10000\n",
      "0o20\n",
      "0x10\n",
      "28\n",
      "28\n",
      "9\n",
      "8\n",
      "1\n",
      "192\n",
      "192\n",
      "0\n"
     ]
    },
    {
     "data": {
      "text/plain": [
       "1"
      ]
     },
     "execution_count": 20,
     "metadata": {},
     "output_type": "execute_result"
    }
   ],
   "source": [
    "# DAY SIX\n",
    "\n",
    "# operands - Or, and and exclusive OR - XOR \n",
    "\n",
    "\n",
    "n = 16\n",
    "print(bin(n)) # 0b10000 ' in string representation\n",
    "print(oct(n)) # 0o20 ' in string representation\n",
    "print(hex(n)) # 0x10 ' in string representation\n",
    "\n",
    "0b10000 # recognized as an integer without the quoatations \n",
    "# it is the literal binary representation\n",
    "# it is 16\n",
    "\n",
    "print(0b10000 + 12) # can add directly to it (16+12=28)\n",
    "print(0o20 + 12) # can do the same thing in hex and other forms\n",
    "\n",
    "#BITWISE OPERANDS\n",
    "print(0b1000 | 0b0001) # equates to 13. this workds because we have given it the notation that allows it to be read in binary\n",
    "# the prefix 0b tells us that the following digits define the binary value\n",
    "# or is also knwon as turnign on or setting a bit\n",
    "\n",
    "print(0b1001 & 0b1110) #anding is known as turning off a bit\n",
    "\n",
    "print(0b1001 ^ 0b1000) # exclusively OR\n",
    "\n",
    "print(0b1100 << 4) # shifts the bits over for digits (0b11000000)\n",
    "print(0b11000000)\n",
    "# or\n",
    "print(0b11000000 >> 12) # can zero out\n",
    "\n",
    "\n"
   ]
  },
  {
   "cell_type": "code",
   "execution_count": 25,
   "metadata": {},
   "outputs": [
    {
     "name": "stdout",
     "output_type": "stream",
     "text": [
      "1\n",
      "17\n",
      "1\n"
     ]
    }
   ],
   "source": [
    "digit = 0 \n",
    "digit |= 0b001\n",
    "print(digit)\n",
    "\n",
    "digit |= 0x10\n",
    "print(digit)\n",
    "\n",
    "digit = digit >> 4\n",
    "print(digit)"
   ]
  },
  {
   "cell_type": "code",
   "execution_count": 51,
   "metadata": {},
   "outputs": [
    {
     "name": "stdout",
     "output_type": "stream",
     "text": [
      "b'hello'\n",
      "<class 'bytes'>\n",
      "<class 'int'>\n",
      "104\n",
      "101\n",
      "108\n",
      "108\n",
      "111\n",
      "b'abc'\n",
      "b'djz'\n",
      "\n",
      "b'hello'\n",
      "b'hello'\n",
      "b'hello'\n",
      "bytearray(b'hello world')\n",
      "bytearray(b'hello world ')\n"
     ]
    }
   ],
   "source": [
    "\n",
    "import difflib\n",
    "print(b'hello') # is printing \"hello\" as bytes\n",
    "print(type(b'hello')) # converts string into bytes - e can see that by its type\n",
    "\n",
    "print(type(b'hello'[0])) # returns a variable that contains the bytes that represents hello\n",
    "\n",
    "for num in b'hello': # extracts the bytes that represent each character of hello\n",
    "    print(num)\n",
    "\n",
    "print(bytes([97, 98,99])) # takes a list of numbers and converts it into what the bytes represent\n",
    "print(bytes([100,106,122]))\n",
    "print(\"\")\n",
    "# converts the encode \n",
    "print(bytes('hello'.encode(\"utf-8\")))\n",
    "print(bytes('hello'.encode(\"ascii\")))\n",
    "print(b'hello')\n",
    "\n",
    "ba = bytearray(b'hello world')\n",
    "print(ba)\n",
    "ba.append(ord(\" \"))\n",
    "print(ba)"
   ]
  },
  {
   "cell_type": "code",
   "execution_count": 59,
   "metadata": {},
   "outputs": [
    {
     "name": "stdout",
     "output_type": "stream",
     "text": [
      "00100011\n",
      "0b100011\n",
      "0b100011\n",
      "0b00100011\n"
     ]
    }
   ],
   "source": [
    "print(format(35, '08b')) # formatting a number to pad 0s to the left\n",
    "print(bin(35))\n",
    "print(format(35, '#08b')) # formatting but also keeps the prefix (\"0b\")\n",
    "print(format(35, '#010b')) # formatting gives you 8 bits plus the prefix\n",
    "\n",
    "\n"
   ]
  },
  {
   "cell_type": "code",
   "execution_count": 81,
   "metadata": {},
   "outputs": [],
   "source": [
    "def numsys(startint):\n",
    "    return (bin(startint), oct(startint), hex(startint))\n",
    "    \n",
    "def getints(binnum, octnum, decnum, hexnum):\n",
    "    b = int(binnum, 2)\n",
    "    o = int(octnum, 8)\n",
    "    d = int(decnum, 10)\n",
    "    h = int(hexnum, 16)\n",
    "    t = [b,o,d,h]\n",
    "    return t\n",
    "\n",
    "\n",
    "\n",
    "def literals():\n",
    "    lst = []\n",
    "    # mil = 1000000\n",
    "    # mbin = format(mil, '#b')\n",
    "    # mhex = format(mil, '#o')\n",
    "    # mdec = format(mil, '#x')\n",
    "    # mint = int(mil)\n",
    "    mbin = 0b11110100001001000000\n",
    "    mhex = 0o3641100\n",
    "    moct = 0xf4240\n",
    "    mint = 1000000\n",
    "    \n",
    "    return [0b11110100001001000000, 0o3641100, 0xf4240, 1000000]"
   ]
  },
  {
   "cell_type": "code",
   "execution_count": 1,
   "metadata": {},
   "outputs": [
    {
     "data": {
      "text/plain": [
       "27"
      ]
     },
     "execution_count": 1,
     "metadata": {},
     "output_type": "execute_result"
    }
   ],
   "source": [
    "def complexity(password):\n",
    "    c = 0\n",
    "    specials = \"(~!\\\"@#$%^&'*_-+=`|(){}[]:;<>,.?/)\"\n",
    "    if len(password) >= 15:\n",
    "        c |= 0x1\n",
    "    if any(char.isdigit() for char in password):\n",
    "        c |= 0x2\n",
    "    if any(char.isupper() for char in password):\n",
    "        c |= 0x4\n",
    "    if any(char.islower() for char in password):\n",
    "        c |= 0x8\n",
    "    if any(char in specials for char in password):\n",
    "        c |= 0x10\n",
    "    return c\n",
    "complexity(\"whatsagoodpassword12356!!!@)\")"
   ]
  },
  {
   "cell_type": "code",
   "execution_count": 88,
   "metadata": {},
   "outputs": [
    {
     "data": {
      "text/plain": [
       "'rwxrwxrwx'"
      ]
     },
     "execution_count": 88,
     "metadata": {},
     "output_type": "execute_result"
    }
   ],
   "source": [
    "def perms(mode):\n",
    "    permissions =''\n",
    "\n",
    "    # Convert mode to binary string representation\n",
    "def perms(mode):\n",
    "    permissions =''\n",
    "    # Convert mode to binary string representation\n",
    "    mode_oct = oct(mode)\n",
    "\n",
    "    for bit_position in range(2, 5):\n",
    "\n",
    "        if mode_oct[bit_position] == '7':\n",
    "            permissions = permissions + \"rwx\"\n",
    "        elif mode_oct[bit_position] == '6':\n",
    "            permissions = permissions + \"rw-\"\n",
    "        elif mode_oct[bit_position] == '5':\n",
    "            permissions = permissions + \"r-x\"\n",
    "        elif mode_oct[bit_position] == '4':\n",
    "            permissions = permissions + \"r--\"\n",
    "        elif mode_oct[bit_position] == '3':\n",
    "            permissions = permissions + \"-wx\"\n",
    "        elif mode_oct[bit_position] == '2':\n",
    "            permissions = permissions + \"-w-\"\n",
    "        elif mode_oct[bit_position] == '1':\n",
    "            permissions = permissions + \"--x\"\n",
    "        elif mode_oct[bit_position] == '0':\n",
    "            permissions = permissions + \"---\"\n",
    "    return permissions\n",
    "\n",
    "perms(511)\n"
   ]
  }
 ],
 "metadata": {
  "kernelspec": {
   "display_name": "Python 3",
   "language": "python",
   "name": "python3"
  },
  "language_info": {
   "codemirror_mode": {
    "name": "ipython",
    "version": 3
   },
   "file_extension": ".py",
   "mimetype": "text/x-python",
   "name": "python",
   "nbconvert_exporter": "python",
   "pygments_lexer": "ipython3",
   "version": "3.8.10"
  },
  "orig_nbformat": 4
 },
 "nbformat": 4,
 "nbformat_minor": 2
}
