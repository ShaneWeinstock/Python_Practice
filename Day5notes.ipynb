{
 "cells": [
  {
   "cell_type": "code",
   "execution_count": 19,
   "metadata": {},
   "outputs": [
    {
     "name": "stdout",
     "output_type": "stream",
     "text": [
      "{1, 2, 3, 4, 5, 100}\n",
      "{1, 2, 3, 4, 5, 100, 6, 7, 8}\n",
      "{1, 2, 3, 100}\n",
      "{4, 5}\n"
     ]
    }
   ],
   "source": [
    "#SETS cannot hold multiple independent items\n",
    "# defined or identified by curly braces\n",
    "\n",
    "s = {} # creates empty set\n",
    "\n",
    "st = {1,2,3,4,5}\n",
    "\n",
    "st.add(100) # adds an item to a set \n",
    "print(st)\n",
    "\n",
    "st.add(100) # attempt to add the item again,\n",
    "# this will fail as the item can only exist in the list once.\n",
    "\n",
    "t = {4,5,6,7,8}\n",
    "st1 = st.union(t) # will concatenate the two sets, only returns each individual item once.\n",
    "print(st1)\n",
    "st2 = st.difference(t) # this will show the differences between these two sets\n",
    "print(st2)\n",
    "st3 = st.intersection(t) # will show what elements are the same in each set\n",
    "print(st3)"
   ]
  },
  {
   "cell_type": "code",
   "execution_count": 33,
   "metadata": {},
   "outputs": [
    {
     "name": "stdout",
     "output_type": "stream",
     "text": [
      "{'blue': 'raspberries', 'red': 'cherries', 'orange': 'oranges', 'green': 'apples', 'purples': 'grapes'}\n",
      "{'blue': 'raspberries', 'red': 'cherries', 'orange': 'oranges', 'green': 'apples', 'purples': 'grapes', 'black': 'plum', 'pink': 'passionfruit', 'white': 'cloudberry'}\n",
      " \n",
      "{'blue': 'blueberries', 'red': 'cherries', 'orange': 'oranges', 'green': 'apples', 'purples': 'grapes', 'black': 'plum', 'pink': 'passionfruit', 'white': 'cloudberry'}\n",
      " \n",
      "dict_keys(['blue', 'red', 'orange', 'green', 'purples', 'black', 'pink', 'white'])\n",
      " \n",
      "dict_values(['blueberries', 'cherries', 'oranges', 'apples', 'grapes', 'plum', 'passionfruit', 'cloudberry'])\n",
      " \n",
      "dict_items([('blue', 'blueberries'), ('red', 'cherries'), ('orange', 'oranges'), ('green', 'apples'), ('purples', 'grapes'), ('black', 'plum'), ('pink', 'passionfruit'), ('white', 'cloudberry')])\n",
      " \n",
      "blue\n",
      "red\n",
      "orange\n",
      "green\n",
      "purples\n",
      "black\n",
      "pink\n",
      "white\n",
      " \n",
      "blue\n",
      " \n",
      "red\n",
      " \n",
      "orange\n",
      " \n",
      "green\n",
      " \n",
      "purples\n",
      " \n",
      "black\n",
      " \n",
      "pink\n",
      " \n",
      "white\n",
      " \n"
     ]
    }
   ],
   "source": [
    "#Dictionaries\n",
    "#dictionary = {'key':'value'/interger, 'key':'value'/integer}\n",
    "\n",
    "#key names can only exist once\n",
    "#values can be anything, and be duplicates\n",
    "\n",
    "crayola = {'blue':'raspberries', 'red':'cherries', 'orange':'oranges', 'green':'apples', 'purples':'grapes'}\n",
    "print(crayola)\n",
    "\n",
    "crayola['black'] = 'plum' #adds an item to the dictionary\n",
    "crayola.update({'pink':'passionfruit', 'white':'cloudberry'}) #adds a dictionary to a dictionary\n",
    "print(crayola)\n",
    "\n",
    "print(\" \")\n",
    "crayola['blue'] = 'blueberries' #overwrites / inserts for the items at that key pair\n",
    "print(crayola)\n",
    "print(\" \")\n",
    "print(crayola.keys())\n",
    "print(\" \")\n",
    "print(crayola.values())\n",
    "print(\" \")\n",
    "print(crayola.items())\n",
    "print(\" \")\n",
    "\n",
    "for color in crayola: # iterating over the entire dictionary only returns the key\n",
    "    print(color)\n",
    "\n",
    "print(\" \")\n",
    "for color in crayola.keys(): # will do the same thing as above\n",
    "    print(color)"
   ]
  },
  {
   "cell_type": "code",
   "execution_count": 36,
   "metadata": {},
   "outputs": [
    {
     "name": "stdout",
     "output_type": "stream",
     "text": [
      "blue tastes like blueberries\n",
      "red tastes like cherries\n",
      "orange tastes like oranges\n",
      "green tastes like apples\n",
      "purples tastes like grapes\n",
      "black tastes like plum\n",
      "pink tastes like passionfruit\n",
      "white tastes like cloudberry\n",
      " \n",
      "('blue', 'blueberries')\n",
      "('red', 'cherries')\n",
      "('orange', 'oranges')\n",
      "('green', 'apples')\n",
      "('purples', 'grapes')\n",
      "('black', 'plum')\n",
      "('pink', 'passionfruit')\n",
      "('white', 'cloudberry')\n"
     ]
    }
   ],
   "source": [
    "for color, flavor in crayola.items():\n",
    "    print(f'{color} tastes like {flavor}') # tuple pairs, two variables\n",
    "print(\" \")\n",
    "for pair in crayola.items(): #pair is the key and value tuple pair\n",
    "    print(pair)"
   ]
  },
  {
   "cell_type": "code",
   "execution_count": 39,
   "metadata": {},
   "outputs": [
    {
     "name": "stdout",
     "output_type": "stream",
     "text": [
      "{'red': 1, 'white': 1, 'blue': 1, 'green': 1, 'black': 1, 'yellow': 1}\n"
     ]
    }
   ],
   "source": [
    "#Dictionary with integer values\n",
    "colors = ['red', 'white', 'blue', 'green', 'black', 'yellow']\n",
    "\n",
    "box = {} # empty dictionary\n",
    "\n",
    "for color in colors: # for every color within colors (iterating over our collection)\n",
    "    if color not in box: # if not in box SET the value to 1\n",
    "        box[color] = 1 # sets the value of each color to 1 if it exists within the box \n",
    "    else:\n",
    "        box[color] += 1 #increases value of the color to continue the iteration, by 1.\n",
    "\n",
    "print(box)\n",
    "\n",
    "# this is one way of iterating over an item in a dictionary."
   ]
  },
  {
   "cell_type": "code",
   "execution_count": 42,
   "metadata": {},
   "outputs": [
    {
     "name": "stdout",
     "output_type": "stream",
     "text": [
      "{'red': 1, 'white': 1, 'blue': 1, 'green': 1, 'black': 1, 'yellow': 1}\n"
     ]
    }
   ],
   "source": [
    "#Dictionary with integer values\n",
    "# antoher method to the above\n",
    "colors = ['red', 'white', 'blue', 'green', 'black', 'yellow']\n",
    "\n",
    "box = {} # empty dictionary\n",
    "\n",
    "for color in colors:\n",
    "    box[color] = colors.count(color) # used for any iterable string/list/etc \n",
    "    # it will loop through and provide the number of items at whatever step it is at.\n",
    "    # because it is a dictionary, it will store this count with each index\n",
    "print(box)"
   ]
  },
  {
   "cell_type": "code",
   "execution_count": 52,
   "metadata": {},
   "outputs": [
    {
     "name": "stdout",
     "output_type": "stream",
     "text": [
      "['black', 'blue', 'blue', 'white', 'green', 'red', 'blue', 'black', 'black', 'blue', 'green', 'blue', 'white', 'blue', 'black', 'white', 'green', 'red', 'blue', 'red', 'blue', 'green', 'green', 'black', 'blue', 'yellow', 'green', 'white', 'green', 'black', 'blue', 'red', 'blue', 'white', 'green', 'red', 'yellow', 'yellow', 'red', 'white', 'red', 'red', 'blue', 'white', 'yellow', 'green', 'white', 'blue', 'red', 'red', 'white', 'green', 'blue', 'black', 'green', 'blue', 'green', 'red', 'green', 'blue', 'black', 'black', 'black', 'blue', 'red', 'white', 'red', 'red', 'white', 'yellow', 'blue', 'blue', 'yellow', 'green', 'yellow', 'black', 'red', 'white', 'yellow', 'red', 'black', 'blue', 'black', 'red', 'green', 'red', 'black', 'green', 'black', 'black', 'blue', 'green', 'blue', 'white', 'white', 'white', 'white', 'yellow', 'black', 'green']\n",
      " \n",
      "{'black': 17, 'blue': 22, 'white': 16, 'green': 18, 'red': 18, 'yellow': 9}\n"
     ]
    }
   ],
   "source": [
    "crayons = ['red', 'white', 'blue', 'green', 'black', 'yellow']\n",
    "box = {} # empty dictionary\n",
    "\n",
    "import random\n",
    "random.seed(333)\n",
    "rbox = [] # empty var to hold randoms\n",
    "i = 0 # iterable\n",
    "while i < 100: # for 100 vars\n",
    "    rbox.append(random.choice(crayons)) #make a choice from within the list and then store it in the list\n",
    "    i += 1 # continue to iterate so long as i is less than 100\n",
    "print(rbox)\n",
    "print(\" \")\n",
    "for color in rbox:\n",
    "    if color not in box:\n",
    "        box[color] = 1\n",
    "    elif color in box:\n",
    "        box[color] += 1\n",
    "\n",
    "print(box)"
   ]
  },
  {
   "cell_type": "code",
   "execution_count": 53,
   "metadata": {},
   "outputs": [
    {
     "name": "stdout",
     "output_type": "stream",
     "text": [
      "{'t': 2, 'h': 2, 'e': 4, ' ': 11, 'q': 1, 'u': 3, 'i': 1, 'c': 1, 'k': 1, 'b': 1, 'r': 2, 'o': 5, 'w': 1, 'n': 2, 'f': 1, 'x': 1, 'j': 1, 'm': 1, 'p': 1, 's': 2, 'v': 1, 'l': 1, 'a': 3, 'z': 1, 'y': 2, 'd': 2, 'g': 1, 'T': 1, '\\n': 1}\n"
     ]
    }
   ],
   "source": [
    "with open(\"outfile4.txt\") as fp:\n",
    "    webster = {}\n",
    "    text = fp.read() #every char in doc \n",
    "    for lett in text: # grabs every letter\n",
    "        webster[lett] = text.count(lett) # will read every character and print out the count of each as a SET/DICTIONARY key pair\n",
    "        \n",
    "print(webster) # PRINT BB\n",
    "\n"
   ]
  },
  {
   "cell_type": "code",
   "execution_count": 54,
   "metadata": {},
   "outputs": [
    {
     "name": "stdout",
     "output_type": "stream",
     "text": [
      "{'the': 2, 'quick': 1, 'brown': 1, 'fox': 1, 'jumps': 1, 'over': 1, 'lazy': 1, 'dog': 1, 'on': 1, 'a': 1, 'Tuesday': 1}\n"
     ]
    }
   ],
   "source": [
    "# WORD COUNT\n",
    "with open(\"outfile4.txt\") as fp:\n",
    "    webster = {}\n",
    "    text = fp.read().split() #default delimeter is space, so now we effectively grab words\n",
    "    for word in text: #every word in doc\n",
    "        webster[word] = text.count(word) # will read every character and print out the count of each as a SET/DICTIONARY key pair\n",
    "        # grabs every letter\n",
    "print(webster) # PRINT BB"
   ]
  },
  {
   "cell_type": "code",
   "execution_count": 59,
   "metadata": {},
   "outputs": [
    {
     "name": "stdout",
     "output_type": "stream",
     "text": [
      "100\n",
      "100\n",
      "100\n"
     ]
    }
   ],
   "source": [
    "def doSum(a,b,c=30,d=40): # default values are always there\n",
    "    print(a+b+c+d)\n",
    "theAddends = [10,20] #c and d were not assigned\n",
    "doSum(*theAddends) #unpacks the list\n",
    "\n",
    "theAddends = [10,20,30,40] #c and d were assigned, same value as above\n",
    "doSum(*theAddends) #unpacks the list\n",
    "\n",
    "#daAddends = {'a':10, 'b':20, 'd':50} \n",
    "#doSum(**daAddends) #unpacks a dictionary\n",
    "\n",
    "daAddends1 = {'a':10, 'b':20}\n",
    "doSum(**daAddends1)\n",
    "# you can overwrite the values that are existing at the beginning of a function, but they don't have to be.\n",
    "# they exist whether you specify them or not as the function proceeds\n",
    "# it is a built in just like many other class/object functions similar to what we've seen so far.\n",
    "\n",
    "# if no positional argument, will error\n",
    "# if no key argument then it can complete, assigns default value.\n",
    "\n"
   ]
  },
  {
   "cell_type": "code",
   "execution_count": 61,
   "metadata": {},
   "outputs": [
    {
     "name": "stdout",
     "output_type": "stream",
     "text": [
      "1041\n"
     ]
    }
   ],
   "source": [
    "def doMath(*args):\n",
    "    result = 0\n",
    "    for a in args:\n",
    "        result += a\n",
    "    print(result)\n",
    "doMath(1,2,3,4,55,66,7,7,8,888)\n",
    "\n",
    "#just shows that you can put in as much as you want to an argument"
   ]
  },
  {
   "cell_type": "code",
   "execution_count": 71,
   "metadata": {},
   "outputs": [
    {
     "name": "stdout",
     "output_type": "stream",
     "text": [
      "['\\n', ' ', 'T', 'a', 'b', 'c', 'd', 'e', 'f', 'g', 'h', 'i', 'j', 'k', 'l', 'm', 'n', 'o', 'p', 'q', 'r', 's', 't', 'u', 'v', 'w', 'x', 'y', 'z']\n",
      " \n",
      "['z', 'y', 'x', 'w', 'v', 'u', 't', 's', 'r', 'q', 'p', 'o', 'n', 'm', 'l', 'k', 'j', 'i', 'h', 'g', 'f', 'e', 'd', 'c', 'b', 'a', 'T', ' ', '\\n']\n",
      " \n",
      "['\\n', ' ', 'a', 'b', 'c', 'd', 'e', 'f', 'g', 'h', 'i', 'j', 'k', 'l', 'm', 'n', 'o', 'p', 'q', 'r', 's', 't', 'T', 'u', 'v', 'w', 'x', 'y', 'z']\n",
      " \n",
      "['z', 'y', 'x', 'w', 'v', 'u', 't', 'T', 's', 'r', 'q', 'p', 'o', 'n', 'm', 'l', 'k', 'j', 'i', 'h', 'g', 'f', 'e', 'd', 'c', 'b', 'a', ' ', '\\n']\n"
     ]
    }
   ],
   "source": [
    "# sort characters in a file by asending and descending order (on askey)\n",
    "with open(\"outfile4.txt\") as fp:\n",
    "    webster = {}\n",
    "    text = fp.read()\n",
    "    for lett in text: \n",
    "        webster[lett] = text.count(lett)\n",
    "print(sorted(webster)) #sorts assending order (chars)\n",
    "print(\" \")\n",
    "print(sorted(webster, reverse=True)) #sorts descending order (chars)\n",
    "print(\" \")\n",
    "print(sorted(webster, key=str.lower)) # sorts case insensitive, negates the askey value of a capital letter (Same with upper)\n",
    "print(\" \")\n",
    "print(sorted(webster, key=str.upper, reverse=True)) # sorts case insensitive\n"
   ]
  },
  {
   "cell_type": "code",
   "execution_count": 73,
   "metadata": {},
   "outputs": [
    {
     "data": {
      "text/plain": [
       "['pam', 'martin', 'gina', 'cole', 'tommy', 'dragonfly', 'bruhman']"
      ]
     },
     "execution_count": 73,
     "metadata": {},
     "output_type": "execute_result"
    }
   ],
   "source": [
    "# This is an example of how to set a key in order to decipher your list.\n",
    "def secondlett(item):\n",
    "    return item[1:]\n",
    "\n",
    "cast = [\"tommy\", \"martin\", \"gina\", \"pam\", \"bruhman\", \"cole\", \"dragonfly\"]\n",
    "\n",
    "sorted(cast, key=len) # sorts based on length of item\n",
    "sorted(cast, key=len, reverse=True) # sorts based on length of item, highest to lowerst\n",
    "sorted(cast, key=secondlett) #sorts based on second letter of the item"
   ]
  },
  {
   "cell_type": "code",
   "execution_count": 75,
   "metadata": {},
   "outputs": [
    {
     "data": {
      "text/plain": [
       "{'the': 2,\n",
       " 'quick': 1,\n",
       " 'brown': 1,\n",
       " 'fox': 1,\n",
       " 'jumps': 1,\n",
       " 'over': 1,\n",
       " 'lazy': 1,\n",
       " 'dog': 1,\n",
       " 'on': 1,\n",
       " 'a': 1,\n",
       " 'Tuesday': 1}"
      ]
     },
     "execution_count": 75,
     "metadata": {},
     "output_type": "execute_result"
    }
   ],
   "source": [
    "# WORD COUNT FUNCTION\n",
    "\n",
    "def count_words(filepath):\n",
    "    \n",
    "    with open(\"outfile4.txt\") as fp:\n",
    "        webster = {}\n",
    "        text = fp.read().split() #default delimeter is space, so now we effectively grab words\n",
    "        for word in text: #every word in doc\n",
    "            webster[word] = text.count(word) # will read every character and print out the count of each as a SET/DICTIONARY key pair\n",
    "            # grabs every letter\n",
    "    return(webster) # PRINT BB\n",
    "\n",
    "count_words(\"outfile4.txt\")"
   ]
  },
  {
   "cell_type": "code",
   "execution_count": 90,
   "metadata": {},
   "outputs": [
    {
     "name": "stdout",
     "output_type": "stream",
     "text": [
      "1\n",
      "3\n",
      "7\n",
      "b=23\n",
      "d=14\n",
      "None\n"
     ]
    }
   ],
   "source": [
    "# args and kwargs are what we use to take an unknown number of inputs\n",
    "# kwargs is for key value pairs\n",
    "# args is for unknown number of values without a key pair\n",
    "def infinitearguments(*args,**kwargs):\n",
    "     #by key and not by lower, just alpha\n",
    "    for a in args: # a is working through all arguments without key words // this is what we call a positional argument (because it doesn't have a value tied to key)\n",
    "        print(a)\n",
    "    for k, v in sorted(kwargs.items()): #when k and v is present we are evaluating all key and value pairs and sorting them with built in KWARGS via default sort\n",
    "        print(f\"{k}={v}\") # formatted print to grab the k and then grab the pair value under v\n",
    "\n",
    "print(infinitearguments(1,3,7,d=14, b=23))"
   ]
  },
  {
   "cell_type": "code",
   "execution_count": 106,
   "metadata": {},
   "outputs": [
    {
     "data": {
      "text/plain": [
       "['A new line',\n",
       " 'dope',\n",
       " 'the quick brown fox jumps over the lazy dog on a Tuesday',\n",
       " 'zzzz']"
      ]
     },
     "execution_count": 106,
     "metadata": {},
     "output_type": "execute_result"
    }
   ],
   "source": [
    "def sort_ascii(filepath):\n",
    "    with open(filepath) as fp:\n",
    "        webster = {}\n",
    "        text = fp.read().splitlines()\n",
    "        # for lett in text: \n",
    "    return(sorted(text, key=str.lower)) #sorts assending order (chars)\n",
    "\n",
    "sort_ascii(\"outfile4.txt\")"
   ]
  },
  {
   "cell_type": "code",
   "execution_count": 107,
   "metadata": {},
   "outputs": [
    {
     "data": {
      "text/plain": [
       "['zzzz',\n",
       " 'dope',\n",
       " 'A new line',\n",
       " 'the quick brown fox jumps over the lazy dog on a Tuesday']"
      ]
     },
     "execution_count": 107,
     "metadata": {},
     "output_type": "execute_result"
    }
   ],
   "source": [
    "def sort_length(filepath):\n",
    "    with open(filepath) as fp:\n",
    "        webster = {}\n",
    "        text = fp.read().splitlines()\n",
    "        return(sorted(text, key=len, reverse=True))\n",
    "sort_length(\"outfile4.txt\")\n",
    "\n",
    "# Incorrect: File \"py_act_28\", line 71, in test_dict AssertionError: Lists differ: ['eyujr0Eo5tZmFib8IMw37Xsdl2JL1U4K XF3tHIPz[26975 chars]4qS'] != ['0sWm6qcCegw5dvU31fh7k9FaponRTMZE8ySiGHK M[26975 chars]6GZ'] First differing element 0: 'eyujr0Eo5tZmFib8IMw37Xsdl2JL1U4K XF3tHIPz[765 chars]r6GZ'\n"
   ]
  },
  {
   "cell_type": "code",
   "execution_count": null,
   "metadata": {},
   "outputs": [],
   "source": []
  },
  {
   "cell_type": "code",
   "execution_count": 108,
   "metadata": {},
   "outputs": [
    {
     "ename": "IndexError",
     "evalue": "list index out of range",
     "output_type": "error",
     "traceback": [
      "\u001b[0;31m---------------------------------------------------------------------------\u001b[0m",
      "\u001b[0;31mIndexError\u001b[0m                                Traceback (most recent call last)",
      "Cell \u001b[0;32mIn[108], line 7\u001b[0m\n\u001b[1;32m      4\u001b[0m         text \u001b[39m=\u001b[39m fp\u001b[39m.\u001b[39mread()\u001b[39m.\u001b[39msplitlines()\n\u001b[1;32m      5\u001b[0m         \u001b[39mreturn\u001b[39;00m \u001b[39msorted\u001b[39m(text, key\u001b[39m=\u001b[39m(\u001b[39mrange\u001b[39m(text[\u001b[39m10\u001b[39m], text[\u001b[39m15\u001b[39m])))\n\u001b[0;32m----> 7\u001b[0m sort_embedded(\u001b[39m\"\u001b[39;49m\u001b[39moutfile4.txt\u001b[39;49m\u001b[39m\"\u001b[39;49m)\n",
      "Cell \u001b[0;32mIn[108], line 5\u001b[0m, in \u001b[0;36msort_embedded\u001b[0;34m(filepath)\u001b[0m\n\u001b[1;32m      3\u001b[0m webster \u001b[39m=\u001b[39m {}\n\u001b[1;32m      4\u001b[0m text \u001b[39m=\u001b[39m fp\u001b[39m.\u001b[39mread()\u001b[39m.\u001b[39msplitlines()\n\u001b[0;32m----> 5\u001b[0m \u001b[39mreturn\u001b[39;00m \u001b[39msorted\u001b[39m(text, key\u001b[39m=\u001b[39m(\u001b[39mrange\u001b[39m(text[\u001b[39m10\u001b[39;49m], text[\u001b[39m15\u001b[39m])))\n",
      "\u001b[0;31mIndexError\u001b[0m: list index out of range"
     ]
    }
   ],
   "source": [
    "def sort_embedded(filepath):\n",
    "    with open(filepath) as fp:\n",
    "        webster = {}\n",
    "        text = fp.read().splitlines()\n",
    "        return sorted(text, key=posi_range)\n",
    "\n",
    "def posi_range(item):\n",
    "    return item[9:15]\n",
    "sort_embedded(\"outfile4.txt\")"
   ]
  }
 ],
 "metadata": {
  "kernelspec": {
   "display_name": "Python 3",
   "language": "python",
   "name": "python3"
  },
  "language_info": {
   "codemirror_mode": {
    "name": "ipython",
    "version": 3
   },
   "file_extension": ".py",
   "mimetype": "text/x-python",
   "name": "python",
   "nbconvert_exporter": "python",
   "pygments_lexer": "ipython3",
   "version": "3.8.10"
  },
  "orig_nbformat": 4
 },
 "nbformat": 4,
 "nbformat_minor": 2
}
