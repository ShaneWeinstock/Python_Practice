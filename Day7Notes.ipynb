{
 "cells": [
  {
   "cell_type": "code",
   "execution_count": 3,
   "metadata": {},
   "outputs": [
    {
     "name": "stdout",
     "output_type": "stream",
     "text": [
      "zer div error\n"
     ]
    }
   ],
   "source": [
    "# DAY 7 - Try and accept mostly\n",
    "\n",
    "# 1/0  # div by 0 is unacceptable\n",
    "try:\n",
    "    1/0\n",
    "except Exception: # if you hit an exception // catch all here.\n",
    "  print(\"zer div error\")\n",
    "\n",
    "# almost like an else if"
   ]
  },
  {
   "cell_type": "code",
   "execution_count": 4,
   "metadata": {},
   "outputs": [
    {
     "name": "stdout",
     "output_type": "stream",
     "text": [
      "zero div error\n"
     ]
    }
   ],
   "source": [
    "try:\n",
    "    1/0\n",
    "except ZeroDivisionError: # you can specify the particular error that you want from this\n",
    "    print(\"zero div error\")\n"
   ]
  },
  {
   "cell_type": "code",
   "execution_count": 6,
   "metadata": {},
   "outputs": [
    {
     "name": "stdout",
     "output_type": "stream",
     "text": [
      "no definition\n"
     ]
    }
   ],
   "source": [
    "#Expanded to both errors\n",
    "try:\n",
    "    1/1\n",
    "   # adb\n",
    "except ZeroDivisionError:\n",
    "    print(\"zer div\")\n",
    "except Exception:\n",
    "    print(\"no definition\")\n"
   ]
  },
  {
   "cell_type": "code",
   "execution_count": 8,
   "metadata": {},
   "outputs": [
    {
     "name": "stdout",
     "output_type": "stream",
     "text": [
      "name 'adb' is not defined\n"
     ]
    }
   ],
   "source": [
    "#Expanded to both errors\n",
    "try:\n",
    "    1/1\n",
    "    #adb\n",
    "except ZeroDivisionError:\n",
    "    print(\"zer div\")\n",
    "except NameError as err:\n",
    "    print(err) # will print out the actual error code\n"
   ]
  },
  {
   "cell_type": "code",
   "execution_count": 16,
   "metadata": {},
   "outputs": [
    {
     "name": "stdout",
     "output_type": "stream",
     "text": [
      "4.0\n",
      "Zer cannot be the denom\n",
      "None\n"
     ]
    }
   ],
   "source": [
    "def division(a,b):\n",
    "    try:\n",
    "        return a/b\n",
    "    except ZeroDivisionError:\n",
    "        print(\"Zer cannot be the denom\")\n",
    "    else:\n",
    "        return a/b\n",
    "\n",
    "print(division(4,1))\n",
    "print(division(4,0))"
   ]
  },
  {
   "cell_type": "code",
   "execution_count": 27,
   "metadata": {},
   "outputs": [
    {
     "name": "stdout",
     "output_type": "stream",
     "text": [
      "Brandon.Scurry@army.mil\n",
      "43000\n",
      "Brandon Scurry\n"
     ]
    },
    {
     "data": {
      "text/plain": [
       "\"Brandon Scurry's current pay is: 46010\""
      ]
     },
     "execution_count": 27,
     "metadata": {},
     "output_type": "execute_result"
    }
   ],
   "source": [
    "# OBJECT ORIENTED PROGRAMMING\n",
    "# creating some classes\n",
    "\n",
    "# an object is the instance of a class\n",
    "\n",
    "# as we have been creating LST we have been creating a class LST for a list\n",
    "raise_amt = 1.07\n",
    "class Employee:\n",
    "    def __init__(self, first, last, pay) -> None:\n",
    "        # we always have to call dunder init\n",
    "        # we then always have to tell the class we are initializing \"itself\"\n",
    "        # we can then pass other parameters, but they MUST be defined in the class\n",
    "        self.first = first # user will input themselves\n",
    "        self.last = last    # get the last\n",
    "        self.pay = pay\n",
    "        self.email = f\"{first}.{last}@army.mil\"\n",
    "\n",
    "    def fullname(self): # we can define a function within the class\n",
    "        return f\"{self.first} {self.last}\" # can call data from the class or global vars\n",
    "# you must tell it where it is coming from first, will auto complete for avail vars within a pointer / class \n",
    "    def position(self, title):\n",
    "        self.title = title # given it a positional parameter\n",
    "        pass\n",
    "    def give_raise(self):\n",
    "        self.pay = int(self.pay * raise_amt)\n",
    "    def __str__(self) -> str:\n",
    "        return f\"{self.fullname()}'s current pay is: {self.pay}\"\n",
    "        pass\n",
    "emp1 = Employee(\"Brandon\", \"Scurry\", 43000)\n",
    "\n",
    "print(emp1.email)\n",
    "print(emp1.pay)\n",
    "\n",
    "print(emp1.fullname())\n",
    "# emp1.position(\"Instructor\")\n",
    "# print(emp1.title())\n",
    "emp1.give_raise()\n",
    "emp1.pay\n",
    "\n",
    "emp2 = Employee(\"Alicia\", \"McGrath\", 90000)\n",
    "\n",
    "emp1.__str__()"
   ]
  },
  {
   "cell_type": "code",
   "execution_count": 29,
   "metadata": {},
   "outputs": [],
   "source": [
    "pin = \"\"\n",
    "def login(username, pin):\n",
    "    username = \"\"\n",
    "    pin = \"\"\n",
    "    pass\n",
    "\n",
    "# in a problem discover in order\n",
    "# how many times I need to evaluate (in this case the number of possibilities) 4 digit pin = 10000 gueses\n",
    "# ensure we can capture every response / int\n",
    "# then try the login each time\n",
    "# account for exception (in this case if we fail login, how do we capture the login) - ensure this is within the loop\n",
    "# ensure that the loop can continue\n",
    "# now if something is not caught then we have the solution.\n",
    "def crack(username):\n",
    "    for i in range(0, 10000):\n",
    "        pin = str(format(i, \"04d\")) # gives you a 4 digit integer with 4 leading values - needed for placeholder of expected PIN\n",
    "        # if we didn't do this we wouldn't have possibilities with leading 0s \n",
    "        try:\n",
    "            login(username, pin)\n",
    "            return pin\n",
    "        except PermissionError: # means invalid login right?\n",
    "            continue # if it's not true, then we have to go back to the loop? so pass?\n",
    "            # beware of continue, but there isn't anything to do here\n",
    "            # generally we would print something here to log our example."
   ]
  },
  {
   "cell_type": "code",
   "execution_count": 23,
   "metadata": {},
   "outputs": [
    {
     "name": "stdout",
     "output_type": "stream",
     "text": [
      "current altittude: 9900\n"
     ]
    }
   ],
   "source": [
    "class drone:\n",
    "    def __init__(self, currentaltitude) -> None:\n",
    "        self.currentaltitude = currentaltitude\n",
    "    def setaltitude(self, desired):\n",
    "        self.desired = desired\n",
    "    def increasealtitude(self, increase=100):\n",
    "        # need to pass increase amount from user or default +100\n",
    "        self.currentaltitude += increase\n",
    "    def decreasealtitude(self, decrease=50):\n",
    "        # need to pass decrease amount from user or default -50\n",
    "        self.currentaltitude -= decrease\n",
    "    def land(self, landing):\n",
    "        self.currentaltitude = 0\n",
    "    def __str__(self):\n",
    "        return f\"current altittude: {self.currentaltitude}\"\n",
    "\n",
    "alt = drone(10000)\n",
    "alt.decreasealtitude(100)\n",
    "\n",
    "alt.currentaltitude\n",
    "print(alt)"
   ]
  },
  {
   "cell_type": "code",
   "execution_count": 29,
   "metadata": {},
   "outputs": [
    {
     "data": {
      "text/plain": [
       "[1.234, 0.456, 124.23124]"
      ]
     },
     "execution_count": 29,
     "metadata": {},
     "output_type": "execute_result"
    }
   ],
   "source": [
    "# \n",
    "f1 = \"1.234, 0.456, 124.23124\"\n",
    "# put this into a list\n",
    "\n",
    "# we want to take a string\n",
    "# break it up into list of values\n",
    "# we will have to convert it later into their data type as requested\n",
    "# splitting it with str.split\n",
    "# we can then iterate through it with a loop\n",
    "# for each item we can append a variable to return, list\n",
    "\n",
    "\n",
    "def q1(floatstr):\n",
    "    lst = []\n",
    "    f1 = floatstr.split(',')\n",
    "    for v in f1:\n",
    "        lst.append(float(v))\n",
    "    return lst\n",
    "q1(f1)\n",
    "\n"
   ]
  },
  {
   "cell_type": "code",
   "execution_count": 37,
   "metadata": {},
   "outputs": [
    {
     "data": {
      "text/plain": [
       "15.2"
      ]
     },
     "execution_count": 37,
     "metadata": {},
     "output_type": "execute_result"
    }
   ],
   "source": [
    "# def q1(*args):\n",
    "#     sums = 0\n",
    "#     for t in args:\n",
    "#         sums = sums + t\n",
    "#     avg = sums / len(t)\n",
    "#     return avg\n",
    "\n",
    "\n",
    "\n",
    "# return the average of a list of unknown inputs\n",
    "# think what is the formula\n",
    "# what are we given\n",
    "# how can we take the inputs and complete the formula\n",
    "def q1(*args):\n",
    "    return sum(args) / len(args)\n",
    "\n",
    "q1(10,15,16,17,18)"
   ]
  },
  {
   "cell_type": "code",
   "execution_count": 41,
   "metadata": {},
   "outputs": [],
   "source": [
    "# given a lst and a number n return a new list containing the last n entries in lst\n",
    "\n",
    "def q1(lst,n):\n",
    "    return lst[-n:] # -n will step back n positions from the end of the list"
   ]
  },
  {
   "cell_type": "code",
   "execution_count": 47,
   "metadata": {},
   "outputs": [
    {
     "data": {
      "text/plain": [
       "[104, 101, 108, 108, 111, 32, 119, 111, 114, 108, 100]"
      ]
     },
     "execution_count": 47,
     "metadata": {},
     "output_type": "execute_result"
    }
   ],
   "source": [
    "def q1(strng):\n",
    "    lst = []\n",
    "    for c in strng:\n",
    "        lst.append(ord(c))\n",
    "    return lst\n",
    "\n",
    "q1(\"hello world\")\n",
    "#Incorrect: line 4, in q1 list.append(ord(c)) TypeError: descriptor 'append' for 'list' objects doesn't apply to a 'int' object\n"
   ]
  },
  {
   "cell_type": "code",
   "execution_count": 51,
   "metadata": {},
   "outputs": [
    {
     "data": {
      "text/plain": [
       "('hello', 'world')"
      ]
     },
     "execution_count": 51,
     "metadata": {},
     "output_type": "execute_result"
    }
   ],
   "source": [
    "# returns a string as a tuple and broken up by word\n",
    "def q1(strng):\n",
    "    tup = tuple(strng.split(\" \"))\n",
    "    return tup\n",
    "q1(\"hello world\")\n"
   ]
  },
  {
   "cell_type": "code",
   "execution_count": 90,
   "metadata": {},
   "outputs": [
    {
     "data": {
      "text/plain": [
       "2540.45"
      ]
     },
     "execution_count": 90,
     "metadata": {},
     "output_type": "execute_result"
    }
   ],
   "source": [
    "# variables / input\n",
    "catalog = {\n",
    "'AMD Ryzen 5 5600X': 289.99,\n",
    "'Intel Core i9-9900K': 363.50,\n",
    "'AMD Ryzen 9 5900X': 569.99\n",
    "}\n",
    "\n",
    "order = [\n",
    "('AMD Ryzen 5 5600X', 5), \n",
    "('Intel Core i9-9900K', 3)\n",
    "]\n",
    "# actual problem and code\n",
    "# build a cost for an order\n",
    "def q6(catalog, order):\n",
    "    cost = 0                                    # open var\n",
    "    for c in order:                             # for item within order\n",
    "        cost += c[1] * catalog[c[0]]            # the cost of the item (at c) multiplied by the catalog at (at c) item 0\n",
    "    return cost\n",
    "q6(catalog, order)"
   ]
  },
  {
   "cell_type": "code",
   "execution_count": 140,
   "metadata": {},
   "outputs": [
    {
     "data": {
      "text/plain": [
       "14"
      ]
     },
     "execution_count": 140,
     "metadata": {},
     "output_type": "execute_result"
    }
   ],
   "source": [
    "# reads how long the first line is by number of characters without the line deliminator\n",
    "\n",
    "def q1(filename):\n",
    "    with open(filename) as fp:\n",
    "        text = fp.readlines()\n",
    "        return len(text[0].strip(\"\\n\"))\n",
    "q1(\"outfile4.txt\")"
   ]
  },
  {
   "cell_type": "code",
   "execution_count": 145,
   "metadata": {},
   "outputs": [
    {
     "data": {
      "text/plain": [
       "'Good Afternoon'"
      ]
     },
     "execution_count": 145,
     "metadata": {},
     "output_type": "execute_result"
    }
   ],
   "source": [
    "def q1(miltime):\n",
    "    miltime1 = int(miltime)\n",
    "    if miltime1 > 300 and miltime1 < 1159:\n",
    "        return \"Good Morning\"\n",
    "    elif miltime1 > 1200 and miltime1 < 1559:\n",
    "        return \"Good Afternoon\"\n",
    "    elif miltime1 > 1600 and miltime1 < 2059:\n",
    "        return \"Good Evening\"\n",
    "    elif miltime1 > 2100 and miltime1 < 259:\n",
    "        return \"Good Night\"\n",
    "q1(\"1500\")"
   ]
  },
  {
   "cell_type": "code",
   "execution_count": 149,
   "metadata": {},
   "outputs": [],
   "source": [
    "# checks to see if a number in a list is positive or negative and returns true or false given the result.\n",
    "def q1(numlist):\n",
    "    for i in numlist:\n",
    "        da_int = numlist[1]\n",
    "        if da_int >= 0:\n",
    "                return True\n",
    "        else:\n",
    "             return False"
   ]
  },
  {
   "cell_type": "code",
   "execution_count": 153,
   "metadata": {},
   "outputs": [],
   "source": [
    "# given a file name and a list\n",
    "# write each word in the list to a file with a new line\n",
    "# stop writing to the file when the word stop has been found.\n",
    "\n",
    "def q1(filename, lst):\n",
    "    with open(filename, 'w') as fp:\n",
    "        for w in lst:\n",
    "            if w != 'stop':\n",
    "                fp.write(w + \"\\n\")\n",
    "            else:\n",
    "                break\n"
   ]
  },
  {
   "cell_type": "code",
   "execution_count": 210,
   "metadata": {},
   "outputs": [
    {
     "data": {
      "text/plain": [
       "49"
      ]
     },
     "execution_count": 210,
     "metadata": {},
     "output_type": "execute_result"
    }
   ],
   "source": [
    "# return a number whose bits are set according to the following condition\n",
    "\n",
    "def q1(filename, overwrite, bytestowrite):\n",
    "    c = 0\n",
    "    if filename == \"\":\n",
    "        c |= 0x1\n",
    "    if overwrite == True:\n",
    "        c |= 0x10\n",
    "    if bytestowrite > 1000000:\n",
    "        c |= 0x20\n",
    "    return c\n",
    "q1(None,True, 111111111111)\n"
   ]
  },
  {
   "cell_type": "code",
   "execution_count": 194,
   "metadata": {},
   "outputs": [
    {
     "data": {
      "text/plain": [
       "0"
      ]
     },
     "execution_count": 194,
     "metadata": {},
     "output_type": "execute_result"
    }
   ],
   "source": [
    "0x0"
   ]
  }
 ],
 "metadata": {
  "kernelspec": {
   "display_name": "Python 3",
   "language": "python",
   "name": "python3"
  },
  "language_info": {
   "codemirror_mode": {
    "name": "ipython",
    "version": 3
   },
   "file_extension": ".py",
   "mimetype": "text/x-python",
   "name": "python",
   "nbconvert_exporter": "python",
   "pygments_lexer": "ipython3",
   "version": "3.8.10"
  },
  "orig_nbformat": 4
 },
 "nbformat": 4,
 "nbformat_minor": 2
}
