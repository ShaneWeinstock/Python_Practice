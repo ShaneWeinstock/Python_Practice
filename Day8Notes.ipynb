{
 "cells": [
  {
   "cell_type": "code",
   "execution_count": 8,
   "metadata": {},
   "outputs": [
    {
     "data": {
      "text/plain": [
       "'fence the over jumps fox brown quick The'"
      ]
     },
     "execution_count": 8,
     "metadata": {},
     "output_type": "execute_result"
    }
   ],
   "source": [
    "#DAY 8 Networking and Sockets\n",
    "\n",
    "#given a string of multiple words sep by single spaces, return a new string with the sentence reversed. the words themselves should remain as they are.\n",
    "\n",
    "def q1(sentence):\n",
    "    words = sentence.split(\" \")\n",
    "    reverse_sentence = ' '.join(reversed(words))\n",
    "    return reverse_sentence   \n",
    "q1(\"The quick brown fox jumps over the fence\")"
   ]
  },
  {
   "cell_type": "code",
   "execution_count": 11,
   "metadata": {},
   "outputs": [
    {
     "data": {
      "text/plain": [
       "'123,456'"
      ]
     },
     "execution_count": 11,
     "metadata": {},
     "output_type": "execute_result"
    }
   ],
   "source": [
    "# given an integer greater than 0, (positive), format with commas\n",
    "def q1(n):\n",
    "    if n >= 0:\n",
    "        return format(n,\",d\")\n",
    "q1(123456)"
   ]
  },
  {
   "cell_type": "code",
   "execution_count": 18,
   "metadata": {},
   "outputs": [
    {
     "data": {
      "text/plain": [
       "[100, 97, 93, 93, 91, 87, 84, 82, 79, 79, -81, -86, -88, -89, -94, -96, -97]"
      ]
     },
     "execution_count": 18,
     "metadata": {},
     "output_type": "execute_result"
    }
   ],
   "source": [
    "# given two lists of integers return a sorted list that contains all integers from both lists in descending order\n",
    "test31=[97, -97, -96, -94, -89, -88, -86, -81]\n",
    "test32=[100, 93, 93, 91, 87, 84, 82, 79, 79] \n",
    "def q1(lst0, lst1):\n",
    "    res = sorted(lst0 + lst1)[::-1]\n",
    "    return res\n",
    "q1(test31,test32)\n"
   ]
  },
  {
   "cell_type": "code",
   "execution_count": 23,
   "metadata": {},
   "outputs": [
    {
     "data": {
      "text/plain": [
       "'NOGO'"
      ]
     },
     "execution_count": 23,
     "metadata": {},
     "output_type": "execute_result"
    }
   ],
   "source": [
    "# given 3 scores in the range [0-100], return 'go' if the avg score is greater than 50 otherwise return no go\n",
    "def q1(s1,s2,s3):\n",
    "    from statistics import mean\n",
    "    scores_list = [s1, s2, s3]\n",
    "    avg = mean(scores_list)\n",
    "    if avg > 50:\n",
    "        return \"GO\"\n",
    "    else:\n",
    "        return \"NOGO\"\n",
    "q1(50, 51, 49)"
   ]
  },
  {
   "cell_type": "code",
   "execution_count": 41,
   "metadata": {},
   "outputs": [
    {
     "data": {
      "text/plain": [
       "[0, 10]"
      ]
     },
     "execution_count": 41,
     "metadata": {},
     "output_type": "execute_result"
    }
   ],
   "source": [
    "#Given an int and a limit, return a list of even multiple of the integer upto and including the limit\n",
    "\n",
    "def q1(integer, limit):\n",
    "    lst = [integer * i for i in range(0, limit + 1)]\n",
    "    even_lst = [num for num in lst if num % 2 == 0]\n",
    "    limit_lst = [num for num in even_lst if num <= limit]\n",
    "    return limit_lst\n",
    "q1(5, 10)"
   ]
  },
  {
   "cell_type": "code",
   "execution_count": 128,
   "metadata": {},
   "outputs": [
    {
     "data": {
      "text/plain": [
       "[0]"
      ]
     },
     "execution_count": 128,
     "metadata": {},
     "output_type": "execute_result"
    }
   ],
   "source": [
    "# given two filenames, return a list whose elements consist of line numbers for which the two files differ. the first line is considered line 0\n",
    "\n",
    "def q1(f0, f1):\n",
    "    import itertools\n",
    "    lst1=[]\n",
    "    with open(f0) as file1, open(f1) as file2:\n",
    "        for lineno, (line1, line2) in enumerate(zip(file1, file2)):\n",
    "            if line1 != line2:\n",
    "                lst1.append(lineno)\n",
    "\n",
    "    return lst1\n",
    "q1(\"outfile.txt\", \"outfile2.txt\")\n",
    "#Incorrect:AssertionError: Items in the first set but not the second: 2 5 Items in the second set but not the first:\n"
   ]
  },
  {
   "cell_type": "code",
   "execution_count": 47,
   "metadata": {},
   "outputs": [
    {
     "data": {
      "text/plain": [
       "7"
      ]
     },
     "execution_count": 47,
     "metadata": {},
     "output_type": "execute_result"
    }
   ],
   "source": [
    "# find the first duplicate in a list\n",
    "test71 = [5,7,9,1,3,7,9,5] # first dupe is 7\n",
    "def q1(lst):\n",
    "    seen = set()\n",
    "    for i in lst:\n",
    "        if i in seen:\n",
    "            return i\n",
    "        seen.add(i)\n",
    "    return -1\n",
    "\n",
    "q1(test71)"
   ]
  },
  {
   "cell_type": "code",
   "execution_count": 53,
   "metadata": {},
   "outputs": [
    {
     "data": {
      "text/plain": [
       "3"
      ]
     },
     "execution_count": 53,
     "metadata": {},
     "output_type": "execute_result"
    }
   ],
   "source": [
    "#Given a sentence as a string with words being separated by a single space, return the length of the shortest word.\n",
    "test81 = \"The quick brown fox jumps over the fence\"\n",
    "def q1(string):\n",
    "    words = string.split()\n",
    "    shortest = min(words, key=len)\n",
    "    return len(shortest)\n",
    "q1(test81)"
   ]
  },
  {
   "cell_type": "code",
   "execution_count": 124,
   "metadata": {},
   "outputs": [
    {
     "name": "stdout",
     "output_type": "stream",
     "text": [
      "9\n",
      "97\n",
      "7\n",
      "97\n"
     ]
    }
   ],
   "source": [
    "# Given an alphanumeric string, return the character whose ascii value\n",
    "# is that of the integer represenation of all of the digits in the string concatenated in the order in which they appear.\n",
    "\n",
    "# take a string\n",
    "# find the numbers\n",
    "# take those numbers as ascii and convert to a character?\n",
    "test91 = \"hell9oworld7\"\n",
    "def q1(strng):\n",
    "\n",
    "    import re\n",
    "    temp = re.findall(r'\\d+', strng)\n",
    "    res = list(map(int,temp)) # returns [9, 7]\n",
    "    for i in range(len(res)):\n",
    "        return chr(int(''.join(list(map(str,res)))))\n",
    "        \n",
    "q1(test91)\n"
   ]
  },
  {
   "cell_type": "code",
   "execution_count": 52,
   "metadata": {},
   "outputs": [
    {
     "data": {
      "text/plain": [
       "6"
      ]
     },
     "execution_count": 52,
     "metadata": {},
     "output_type": "execute_result"
    }
   ],
   "source": [
    "\n",
    "test101 = [1,2,3,4,6,7]\n",
    "#Given a list of positive integers sorted in ascending order, return the first non-consecutive value. If all values are consecutive, return None.\n",
    "\n",
    "def q1(lst):\n",
    "    i = 1\n",
    "    for x in lst:\n",
    "        if i <len(lst) and lst[i] - lst[i-1] !=1:\n",
    "            return lst[i]\n",
    "        i += 1\n",
    "    return None\n",
    "\n",
    "q1(test101)"
   ]
  }
 ],
 "metadata": {
  "kernelspec": {
   "display_name": "Python 3",
   "language": "python",
   "name": "python3"
  },
  "language_info": {
   "codemirror_mode": {
    "name": "ipython",
    "version": 3
   },
   "file_extension": ".py",
   "mimetype": "text/x-python",
   "name": "python",
   "nbconvert_exporter": "python",
   "pygments_lexer": "ipython3",
   "version": "3.8.10"
  },
  "orig_nbformat": 4
 },
 "nbformat": 4,
 "nbformat_minor": 2
}
