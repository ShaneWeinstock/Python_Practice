{
 "cells": [
  {
   "cell_type": "code",
   "execution_count": 4,
   "metadata": {},
   "outputs": [],
   "source": [
    "fp = open(\"test.txt\")\n",
    "# fp is short for file pointer\n",
    "fp\n",
    "#will not have actually read anything from the file, we have simply opened it and can see it's \"description\"\n",
    "fp.close()\n",
    "#when we are done with the file, we have a resonsibility to close it.\n",
    "\n",
    "with open(\"test.txt\") as fp:\n",
    "    pass\n",
    "\n",
    "#this is how we save it off as a variable and when the block is complete, it will automatically close the file."
   ]
  },
  {
   "cell_type": "code",
   "execution_count": 200,
   "metadata": {},
   "outputs": [
    {
     "name": "stdout",
     "output_type": "stream",
     "text": [
      "the quick brown fox jumps over the moon.\n",
      "['First line', 'Second Line', 'Third Line', 'Fourth Line']\n"
     ]
    },
    {
     "ename": "AttributeError",
     "evalue": "'builtin_function_or_method' object has no attribute 'split'",
     "output_type": "error",
     "traceback": [
      "\u001b[0;31m---------------------------------------------------------------------------\u001b[0m",
      "\u001b[0;31mAttributeError\u001b[0m                            Traceback (most recent call last)",
      "Cell \u001b[0;32mIn[200], line 21\u001b[0m\n\u001b[1;32m     18\u001b[0m     \u001b[39mprint\u001b[39m(lines)\n\u001b[1;32m     20\u001b[0m \u001b[39mwith\u001b[39;00m \u001b[39mopen\u001b[39m(\u001b[39m\"\u001b[39m\u001b[39moutfile2.txt\u001b[39m\u001b[39m\"\u001b[39m, \u001b[39m'\u001b[39m\u001b[39mr\u001b[39m\u001b[39m'\u001b[39m) \u001b[39mas\u001b[39;00m fp:\n\u001b[0;32m---> 21\u001b[0m     lines \u001b[39m=\u001b[39m fp\u001b[39m.\u001b[39;49mread\u001b[39m.\u001b[39;49msplit(\u001b[39m'\u001b[39m\u001b[39m/n\u001b[39m\u001b[39m'\u001b[39m) \u001b[39m# is a delimeter\u001b[39;00m\n",
      "\u001b[0;31mAttributeError\u001b[0m: 'builtin_function_or_method' object has no attribute 'split'"
     ]
    }
   ],
   "source": [
    "##\n",
    "with open(\"test.txt\") as fp:\n",
    "    print(fp.read()) #.read() method reads a file in as a string\n",
    "\n",
    "with open(\"test.txt\") as fp, open(\"outfile.txt\",'w') as fo: #w will overrite a file (effectively also simply writing to a file)\n",
    "    # this is a simple method to copy one file to another.\n",
    "\n",
    "#with open(\"outfile2.txt\", 'w') as fo:\n",
    "    fo.write(\"First line\\n\")      # writes strings to a file\n",
    "    lines = [\"First line\", \"Second Line\", \"Third Line\", \"Fourth Line\"]\n",
    "    fo.writelines(lines) # writes lines in as a list\n",
    "    #takes a string and is able to write a simple string object to a file\n",
    "\n",
    "\n",
    "with open(\"outfile2.txt\",'r') as fp: # reads lines \n",
    "    line = fp.readlines()\n",
    "    print(lines)\n",
    "\n",
    "with open(\"outfile2.txt\", 'r') as fp:\n",
    "    lines = fp.read.split('/n') # is a delimeter\n",
    "\n",
    "\n",
    "\n"
   ]
  },
  {
   "cell_type": "code",
   "execution_count": 16,
   "metadata": {},
   "outputs": [],
   "source": [
    "# create a function that pulls from one file and writes to another file (placing it altogether in a function)\n",
    "def exam(filename, outfile):\n",
    "    with open(filename) as fp, open(outfile, 'w') as fo: # could change the w to an a to append instead of write.\n",
    "        fo.write(fp.read())\n",
    "\n",
    "exam(\"test.txt\", \"outfile3.txt\")\n"
   ]
  },
  {
   "cell_type": "code",
   "execution_count": 19,
   "metadata": {},
   "outputs": [],
   "source": [
    "# no formatting // as in it will not take new lines and create a new line\n",
    "# this will also only output a single string\n",
    "def exam(outfile):\n",
    "    with open(outfile, 'w') as fo:\n",
    "        ui = input(\"write stuff: \")\n",
    "        while ui:\n",
    "            fo.write(ui)\n",
    "            ui = input(\"write stuff: \")\n",
    "\n",
    "exam(\"input.txt\")\n"
   ]
  },
  {
   "cell_type": "code",
   "execution_count": 20,
   "metadata": {},
   "outputs": [
    {
     "data": {
      "text/plain": [
       "'somethin somethin something darksideone \\ntwo\\nthree\\nfour\\nthsi is still a string and not  list\\n'"
      ]
     },
     "execution_count": 20,
     "metadata": {},
     "output_type": "execute_result"
    }
   ],
   "source": [
    "# iteration two:: Add to this file\n",
    "# multiple strings in a list\n",
    "def exam(outfile):\n",
    "    with open(outfile, 'a') as fo:\n",
    "        ui = input(\"write stuff: \")\n",
    "        while ui:\n",
    "            fo.write(ui + '\\n') # now will write a new line\n",
    "            ui = input(\"write stuff: \")\n",
    "\n",
    "exam(\"input.txt\")\n",
    "\n",
    "fp = open(\"input.txt\")\n",
    "fp.read()\n"
   ]
  },
  {
   "cell_type": "code",
   "execution_count": 26,
   "metadata": {},
   "outputs": [],
   "source": [
    "box = ['red', 'green', 'orange', 'blue']\n",
    "def exam(outfile):\n",
    "    with open(outfile, 'a') as fo:\n",
    "        for color in box: # iterate through the box (var)\n",
    "            if color != 'orange': # set conditional of not being orange\n",
    "                fo.write(f'{color} is not oragne\\n') #string/output format\n",
    "    #        else:\n",
    "   #             continue\n",
    "\n",
    "exam(\"colors.txt\")\n",
    "\n"
   ]
  },
  {
   "cell_type": "code",
   "execution_count": 196,
   "metadata": {},
   "outputs": [
    {
     "name": "stdout",
     "output_type": "stream",
     "text": [
      "104\n",
      "101\n",
      "108\n",
      "108\n",
      "111\n"
     ]
    }
   ],
   "source": [
    "#ordinal values\n",
    "#converts the screen character to the askey value\n",
    "\n",
    "ord('h')\n",
    "strng=\"hello\"\n",
    "for lett in strng:\n",
    "    print(ord(lett))\n"
   ]
  },
  {
   "cell_type": "code",
   "execution_count": 199,
   "metadata": {},
   "outputs": [
    {
     "data": {
      "text/plain": [
       "[104, 101, 108, 108, 111]"
      ]
     },
     "execution_count": 199,
     "metadata": {},
     "output_type": "execute_result"
    }
   ],
   "source": [
    "def code_points(strng):\n",
    "    out = []\n",
    "    for lett in strng:\n",
    "        out.append(ord(lett))        \n",
    "    return (out)\n",
    "        \n",
    "code_points(\"hello\")"
   ]
  },
  {
   "cell_type": "code",
   "execution_count": 206,
   "metadata": {},
   "outputs": [
    {
     "data": {
      "text/plain": [
       "(10, 20, 30, 40, 50, 60, 70, 80, 90, 100)"
      ]
     },
     "execution_count": 206,
     "metadata": {},
     "output_type": "execute_result"
    }
   ],
   "source": [
    "# make a tuple of a list that contians 10-100\n",
    "#n defines number of steps\n",
    "# divisor\n",
    "def make_tuple(n):\n",
    "    out = [ j for j in range(1,n+1) if j % 10 == 0 ]\n",
    "    return tuple(out)\n",
    "make_tuple(100)   "
   ]
  },
  {
   "cell_type": "code",
   "execution_count": 204,
   "metadata": {},
   "outputs": [
    {
     "data": {
      "text/plain": [
       "(20, 30, 40)"
      ]
     },
     "execution_count": 204,
     "metadata": {},
     "output_type": "execute_result"
    }
   ],
   "source": [
    "\n",
    "# creates a tuple of a list\n",
    "# defined by the user\n",
    "# interated by 10\n",
    "# first finds the range\n",
    "# then div10 steps through lst to discover if it is div by 10\n",
    "# div10 then stores h and returns as a tuple\n",
    "# def make_tuple(a,b):\n",
    "#     lst = [ j for j in range(a,b+1) ]\n",
    "#     div10_list = [h for h in lst if h % 10 == 0]\n",
    "#     return tuple(div10_list)\n",
    "def make_tuple(a,b):\n",
    "    lst = [ j for j in range(a,b+1) if j % 10 == 0]\n",
    "    return tuple(lst)    \n",
    "make_tuple(20, 40)\n",
    "\n",
    "\n",
    "def make_tuple(a,b):\n",
    "    lst = []\n",
    "    for i in range(a,b+1):\n",
    "        if i % 10 == 0:\n",
    "            lst.append(i)\n",
    "    return tuple(lst)\n",
    "\n",
    "make_tuple()"
   ]
  },
  {
   "cell_type": "code",
   "execution_count": 191,
   "metadata": {},
   "outputs": [
    {
     "data": {
      "text/plain": [
       "(' ', \"Physics is the universe's operating system\")"
      ]
     },
     "execution_count": 191,
     "metadata": {},
     "output_type": "execute_result"
    }
   ],
   "source": [
    "def strings():\n",
    "    strng2 = \"Physics is the universe's operating system\"\n",
    "    strng1 = \"\"\n",
    "    out = tuple([strng1] + [strng2])\n",
    "    return out\n",
    "strings()"
   ]
  },
  {
   "cell_type": "code",
   "execution_count": 225,
   "metadata": {},
   "outputs": [
    {
     "name": "stdout",
     "output_type": "stream",
     "text": [
      "hello \n",
      "world!\n"
     ]
    }
   ],
   "source": [
    "strng = \"hello world!\"\n",
    "\n",
    "l = len(strng)\n",
    "half = len(strng)//2\n",
    "fhalf = strng[:half] # stores half of the indexed collection // front\n",
    "bhalf = strng[half:] # stores half of the indexed collection // back\n",
    "print(fhalf)\n",
    "print(bhalf)\n",
    "\n",
    "# return a tuple of given list split into two equally sized halves\n",
    "# the given list will always consist of even number elements"
   ]
  },
  {
   "cell_type": "code",
   "execution_count": 252,
   "metadata": {},
   "outputs": [
    {
     "data": {
      "text/plain": [
       "('fo', 'ur')"
      ]
     },
     "execution_count": 252,
     "metadata": {},
     "output_type": "execute_result"
    }
   ],
   "source": [
    "# return a tuple of given list split into two equally sized halves\n",
    "# the given list will always consist of even number elements\n",
    "def disect(lst):\n",
    "    bsilly_length = lst[:len(lst)//2]\n",
    "    fsilly_length = lst[len(lst)//2:]\n",
    "    if len(fsilly_length) == len(bsilly_length):\n",
    "        return bsilly_length , fsilly_length\n",
    "disect(\"four\") \n"
   ]
  },
  {
   "cell_type": "code",
   "execution_count": 192,
   "metadata": {},
   "outputs": [
    {
     "data": {
      "text/plain": [
       "'esreveR ot gnihtemoS'"
      ]
     },
     "execution_count": 192,
     "metadata": {},
     "output_type": "execute_result"
    }
   ],
   "source": [
    "#function that reverses the string input\n",
    "def reverse_string(strng):\n",
    "    return strng[::-1]\n",
    "reverse_string(\"Something to Reverse\")"
   ]
  },
  {
   "cell_type": "code",
   "execution_count": 215,
   "metadata": {},
   "outputs": [],
   "source": [
    "# Read file specified in inpath and writes all lines to the out path param\n",
    "# before writing out each line, add the line number starting with 1 followed by colon and space\n",
    "\n",
    "#with open(\"outfile2.txt\", 'r') as fp:\n",
    "#    lines = fp.read.split('/n') # is a delimeter\n",
    "\n",
    "# read file\n",
    "# delim\n",
    "# write to file\n",
    "\n",
    "def linenums(inpath,outpath):\n",
    "    with open(inpath, 'r') as input, open(outpath,\"w\") as output:\n",
    "        lst = input.readlines()\n",
    "        ind = 1\n",
    "        for i in lst:\n",
    "            output.write(str(ind) + \": \" + str(i))\n",
    "            ind += 1\n",
    "    pass\n",
    "\n",
    "linenums(\"inpath.txt\", \"outpath.txt\")\n"
   ]
  },
  {
   "cell_type": "code",
   "execution_count": 216,
   "metadata": {},
   "outputs": [],
   "source": [
    "def linenums(inpath,outpath):\n",
    "    with open(inpath, 'r') as input, open(outpath,\"w\") as output:\n",
    "        lst = input.readlines()\n",
    "        for index, i in enumerate(lst):\n",
    "            output.write(str(index + 1) + \": \" + str(i))\n",
    "    pass\n",
    "\n",
    "linenums(\"inpath.txt\", \"outpath.txt\")\n"
   ]
  },
  {
   "cell_type": "code",
   "execution_count": 257,
   "metadata": {},
   "outputs": [],
   "source": [
    "# input given to the user\n",
    "# until empty string\n",
    "# and all gets ossed to fname\n",
    "\n",
    "def log_to_file(fname,theme):\n",
    "    \n",
    "    with open(fname, 'a') as fname:\n",
    "        check = False\n",
    "        lst = []\n",
    "        i = 1\n",
    "        while check == False:\n",
    "            inp = input(\"Enter String\")\n",
    "            if inp ==\"\":\n",
    "                check == True\n",
    "                break\n",
    "            else:\n",
    "                fname.write(theme + \":\" + str(inp) + \"\\n\")\n",
    "        pass\n",
    "        \n",
    "log_to_file(\"inpath.txt\", \"SunFlowers\")"
   ]
  },
  {
   "cell_type": "code",
   "execution_count": 267,
   "metadata": {},
   "outputs": [
    {
     "name": "stdout",
     "output_type": "stream",
     "text": [
      "16\n"
     ]
    }
   ],
   "source": [
    "# fizz buzz\n",
    "# take user input and see if it is divisible by 3 or 5 and return condition.\n",
    "check = False\n",
    "lst = []\n",
    "while check == False:\n",
    "    inp = int(input(\"Enter Number \"))\n",
    "    if inp ==\"\":\n",
    "        check == True\n",
    "        break\n",
    "    else:\n",
    "        if inp % 3 ==  0 and inp % 5 == 0:\n",
    "            print(\"fizzbuzz\")\n",
    "        elif inp % 5 == 0:\n",
    "            print(\"buzz\")\n",
    "        elif inp % 3 == 0:\n",
    "            print(\"fizz\")\n",
    "        else:\n",
    "            print(inp)\n",
    "        break\n"
   ]
  }
 ],
 "metadata": {
  "kernelspec": {
   "display_name": "Python 3",
   "language": "python",
   "name": "python3"
  },
  "language_info": {
   "codemirror_mode": {
    "name": "ipython",
    "version": 3
   },
   "file_extension": ".py",
   "mimetype": "text/x-python",
   "name": "python",
   "nbconvert_exporter": "python",
   "pygments_lexer": "ipython3",
   "version": "3.8.10"
  },
  "orig_nbformat": 4
 },
 "nbformat": 4,
 "nbformat_minor": 2
}
