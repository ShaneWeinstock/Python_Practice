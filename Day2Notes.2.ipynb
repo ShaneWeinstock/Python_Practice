{
 "cells": [
  {
   "cell_type": "code",
   "execution_count": 3,
   "metadata": {},
   "outputs": [
    {
     "name": "stdout",
     "output_type": "stream",
     "text": [
      "1\n",
      "2\n",
      "3\n",
      "4\n",
      "5\n",
      "i\n",
      "t\n",
      "e\n",
      "m\n",
      " \n",
      "i\n",
      "n\n",
      " \n",
      "s\n",
      "t\n",
      "r\n",
      "i\n",
      "n\n",
      "g\n"
     ]
    }
   ],
   "source": [
    "ex_lst = [1,2,3,4,5]\n",
    "for num in ex_lst:\n",
    "    print(num)\n",
    "\n",
    "strng = (\"item in string\")\n",
    "#    for letters in strng\n",
    " #   print(letters)"
   ]
  },
  {
   "cell_type": "code",
   "execution_count": 4,
   "metadata": {},
   "outputs": [
    {
     "name": "stdout",
     "output_type": "stream",
     "text": [
      "0\n",
      "1\n",
      "2\n",
      "3\n",
      "4\n"
     ]
    }
   ],
   "source": [
    "for num in range(5):\n",
    "    print(num)\n",
    "\n"
   ]
  },
  {
   "cell_type": "code",
   "execution_count": 11,
   "metadata": {},
   "outputs": [
    {
     "name": "stdout",
     "output_type": "stream",
     "text": [
      "[50, 51, 52, 53, 54, 55, 56, 57, 58, 59, 60, 61, 62, 63, 64, 65, 66, 67, 68, 69, 70, 71, 72, 73, 74, 75, 76, 77, 78, 79, 80, 81, 82, 83, 84, 85, 86, 87, 88, 89, 90, 91, 92, 93, 94, 95, 96, 97, 98, 99]\n",
      "[0, 1, 2, 3, 4, 5, 6, 7, 8, 9, 10, 11, 12, 13, 14, 15, 16, 17, 18, 19, 20, 21, 22, 23, 24, 25, 26, 27, 28, 29, 30, 31, 32, 33, 34, 35, 36, 37, 38, 39, 40, 41, 42, 43, 44, 45, 46, 47, 48, 49]\n",
      "[99, 98, 97, 96, 95, 94, 93, 92, 91, 90, 89, 88, 87, 86, 85, 84, 83, 82, 81, 80, 79, 78, 77, 76, 75, 74, 73, 72, 71, 70, 69, 68, 67, 66, 65, 64, 63, 62, 61, 60, 59, 58, 57, 56, 55, 54, 53, 52, 51, 50, 49, 48, 47, 46, 45, 44, 43, 42, 41, 40, 39, 38, 37, 36, 35, 34, 33, 32, 31, 30, 29, 28, 27, 26, 25, 24, 23, 22, 21, 20, 19, 18, 17, 16, 15, 14, 13, 12, 11, 10, 9, 8, 7, 6, 5, 4, 3, 2, 1, 0]\n",
      "0\n",
      "7\n",
      "14\n",
      "21\n",
      "28\n",
      "35\n",
      "42\n",
      "49\n",
      "56\n",
      "63\n",
      "70\n",
      "77\n",
      "84\n",
      "91\n",
      "98\n"
     ]
    }
   ],
   "source": [
    "#SLICING\n",
    "\n",
    "ex_long_list = list(range(100))\n",
    "ex_long_list[0:51] # with colon behind it's everything after, with colon before it's everything before?\n",
    "\n",
    "print(ex_long_list[50:])\n",
    "print(ex_long_list[:50])\n",
    "\n",
    "print(ex_long_list[::-1]) #reverse\n",
    "\n",
    "sevens = []\n",
    "for num in ex_long_list: # only prints what's divisible by 7\n",
    "    if num % 7 == 0:\n",
    "        print(num)\n",
    "\n",
    "\n",
    "\n"
   ]
  },
  {
   "cell_type": "code",
   "execution_count": 23,
   "metadata": {},
   "outputs": [
    {
     "name": "stdout",
     "output_type": "stream",
     "text": [
      "Zero\n"
     ]
    }
   ],
   "source": [
    "# find if a number is odd or even and positive or negative\n",
    "\n",
    "num = int(input(\"enter a Number \"))\n",
    "if (num == 0):\n",
    "    print(\"Zero\")\n",
    "elif (num <= 0):\n",
    "    if (num % 2) == 0:\n",
    "        print(\"Negative Even\")\n",
    "    else:\n",
    "        print(\"Negative Odd\")\n",
    "elif(num >= 0):\n",
    "    if (num % 2) == 0:\n",
    "        print(\"Positive Even\")\n",
    "    else:\n",
    "        print(\"Positive Odd\")\n"
   ]
  },
  {
   "cell_type": "code",
   "execution_count": 31,
   "metadata": {},
   "outputs": [
    {
     "name": "stdout",
     "output_type": "stream",
     "text": [
      "9\n"
     ]
    }
   ],
   "source": [
    "# build a function do math and return the output\n",
    "\n",
    "def domath(a,b,c):\n",
    "    d=(a + b)*c\n",
    "    print(d)\n",
    "    \n",
    "domath(1,2,3) "
   ]
  },
  {
   "cell_type": "code",
   "execution_count": 2,
   "metadata": {},
   "outputs": [
    {
     "data": {
      "text/plain": [
       "''"
      ]
     },
     "execution_count": 2,
     "metadata": {},
     "output_type": "execute_result"
    }
   ],
   "source": [
    "# read multiple lines from user and output\n",
    "def user_io():\n",
    "    sentinel = '' # ends when this string is seen\n",
    "    string_list = ''\n",
    "    '\\n'.join(iter(input, sentinel))\n",
    "    return(string_list)\n",
    "\n",
    "        \n",
    "\n",
    "user_io()\n"
   ]
  },
  {
   "cell_type": "code",
   "execution_count": 3,
   "metadata": {},
   "outputs": [
    {
     "data": {
      "text/plain": [
       "['1 enil', '2 enil', '3 enil']"
      ]
     },
     "execution_count": 3,
     "metadata": {},
     "output_type": "execute_result"
    }
   ],
   "source": [
    "# input from user\n",
    "# read in mult lines of string\n",
    "# reverse the string in output\n",
    "def reverseit():\n",
    "    check = False\n",
    "    lst = []\n",
    "    while check == False:\n",
    "        inp = input(\"Enter String\")\n",
    "        if inp ==\"\":\n",
    "            check == True\n",
    "            break\n",
    "        else:\n",
    "            lst.append(inp[::-1])\n",
    "    return lst\n",
    "\n",
    "reverseit()"
   ]
  },
  {
   "cell_type": "code",
   "execution_count": 12,
   "metadata": {},
   "outputs": [
    {
     "data": {
      "text/plain": [
       "'AbCdElKsDlFkJ'"
      ]
     },
     "execution_count": 12,
     "metadata": {},
     "output_type": "execute_result"
    }
   ],
   "source": [
    "def leetString(s):\n",
    "    a = 0\n",
    "    ret = \"\"\n",
    "\n",
    "    for lett in s:\n",
    "        if a % 2 == 0:\n",
    "            ret += lett.upper()\n",
    "        else:\n",
    "            ret += lett.lower()\n",
    "        a+=1\n",
    "    return(ret)\n",
    "    \n",
    "\n",
    "leetString(\"ABCDELKSDLFKJ\")"
   ]
  },
  {
   "cell_type": "code",
   "execution_count": 5,
   "metadata": {},
   "outputs": [
    {
     "data": {
      "text/plain": [
       "['one two', 'three', 'four']"
      ]
     },
     "execution_count": 5,
     "metadata": {},
     "output_type": "execute_result"
    }
   ],
   "source": [
    "def user_io():\n",
    "    check = False\n",
    "    lst = []\n",
    "    while check != \"\":\n",
    "        check = input(\"Enter String\")\n",
    "        lst.append(check)\n",
    "    return lst[:-1]\n",
    "\n",
    "\n",
    "user_io()"
   ]
  },
  {
   "cell_type": "code",
   "execution_count": 15,
   "metadata": {},
   "outputs": [
    {
     "name": "stdout",
     "output_type": "stream",
     "text": [
      "WIN\n"
     ]
    }
   ],
   "source": [
    "def guess_number(n):\n",
    "\n",
    "    num = n #unecessary\n",
    "    guess = None\n",
    "    while guess != num:\n",
    "        guess = input(\"guess a number\")\n",
    "        guess = int(guess)\n",
    "\n",
    "        if guess == num:\n",
    "            print(\"WIN\")\n",
    "            return\n",
    "        if guess > num:\n",
    "            print(\"TOO HIGH\")\n",
    "        if guess < num:\n",
    "            print(\"TOO LOW\")\n",
    "\n",
    "guess_number(23)\n",
    "\n",
    "#Incorrect:AssertionError: 'TOO HIGH' != 'WIN' - TOO HIGH + WIN"
   ]
  },
  {
   "cell_type": "code",
   "execution_count": 30,
   "metadata": {},
   "outputs": [
    {
     "name": "stdout",
     "output_type": "stream",
     "text": [
      "10\n",
      "12\n",
      "14\n",
      "16\n",
      "18\n",
      "20\n",
      "11\n",
      "13\n",
      "15\n",
      "17\n",
      "19\n"
     ]
    }
   ],
   "source": [
    "def evensandodds(first, last):\n",
    "    x = range(first, last+1)\n",
    "    for n in x:\n",
    "        if n % 2 == 0:\n",
    "            print(n)\n",
    "    for n in x:\n",
    "        if n % 2 == 1:\n",
    "            print(n)\n",
    "\n",
    "\n",
    "evensandodds(10, 20)\n",
    "\n",
    "# r: module 'deliverable' has no attribute 'evensandodds\n"
   ]
  },
  {
   "cell_type": "code",
   "execution_count": 31,
   "metadata": {},
   "outputs": [
    {
     "ename": "ValueError",
     "evalue": "invalid literal for int() with base 10: ''",
     "output_type": "error",
     "traceback": [
      "\u001b[0;31m---------------------------------------------------------------------------\u001b[0m",
      "\u001b[0;31mValueError\u001b[0m                                Traceback (most recent call last)",
      "Cell \u001b[0;32mIn[31], line 2\u001b[0m\n\u001b[1;32m      1\u001b[0m n\u001b[39m=\u001b[39m \u001b[39m'\u001b[39m\u001b[39m'\u001b[39m\n\u001b[0;32m----> 2\u001b[0m user_int \u001b[39m=\u001b[39m \u001b[39minput\u001b[39m(\u001b[39mint\u001b[39;49m(n))\n\u001b[1;32m      4\u001b[0m \u001b[39mif\u001b[39;00m n \u001b[39m%\u001b[39m \u001b[39m3\u001b[39m \u001b[39m==\u001b[39m \u001b[39m0\u001b[39m \u001b[39mand\u001b[39;00m n \u001b[39m%\u001b[39m \u001b[39m5\u001b[39m:\n\u001b[1;32m      5\u001b[0m     \u001b[39mprint\u001b[39m(\u001b[39m\"\u001b[39m\u001b[39mfizzbuzz\u001b[39m\u001b[39m\"\u001b[39m)\n",
      "\u001b[0;31mValueError\u001b[0m: invalid literal for int() with base 10: ''"
     ]
    }
   ],
   "source": [
    "n= ''\n",
    "user_int = input(int(n))\n",
    "\n",
    "if n % 3 == 0 and n % 5:\n",
    "    print(\"fizzbuzz\")\n",
    "elif n % 5 == 0:\n",
    "    print(\"buzz\")\n",
    "elif n % 3 == 0:\n",
    "    print(\"fizz\")\n",
    "\n",
    "\n"
   ]
  }
 ],
 "metadata": {
  "kernelspec": {
   "display_name": "Python 3",
   "language": "python",
   "name": "python3"
  },
  "language_info": {
   "codemirror_mode": {
    "name": "ipython",
    "version": 3
   },
   "file_extension": ".py",
   "mimetype": "text/x-python",
   "name": "python",
   "nbconvert_exporter": "python",
   "pygments_lexer": "ipython3",
   "version": "3.8.10"
  },
  "orig_nbformat": 4
 },
 "nbformat": 4,
 "nbformat_minor": 2
}
